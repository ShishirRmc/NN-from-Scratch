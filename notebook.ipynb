{
  "nbformat": 4,
  "nbformat_minor": 0,
  "metadata": {
    "colab": {
      "provenance": []
    },
    "kernelspec": {
      "name": "python3",
      "display_name": "Python 3"
    },
    "language_info": {
      "name": "python"
    }
  },
  "cells": [
    {
      "cell_type": "code",
      "execution_count": 1,
      "metadata": {
        "colab": {
          "base_uri": "https://localhost:8080/"
        },
        "id": "8Glh4PZ0yeCu",
        "outputId": "09d746d4-bea2-4e8a-e4cc-3d2f206e347a"
      },
      "outputs": [
        {
          "output_type": "stream",
          "name": "stdout",
          "text": [
            "[10.8, 10.21, 3.885]\n"
          ]
        }
      ],
      "source": [
        "inputs = [1, 2, 3, 2.5]\n",
        "weights = [[0.2, 0.8, -0.5, 1],\n",
        "[0.5, -0.91, 0.26, -0.5],\n",
        "[-0.26, -0.27, 0.17, 0.87]]\n",
        "biases = [2, 3, 0.5]\n",
        "# Output of current layer\n",
        "layer_outputs = []\n",
        "# For each neuron\n",
        "for neuron_weights, neuron_bias in zip(weights, biases):\n",
        "# Zeroed output of given neuron\n",
        "  neuron_output = 0\n",
        "# For each input and weight to the neuron\n",
        "  for n_input, weight in zip(inputs, neuron_weights):\n",
        "# Multiply this input by associated weight\n",
        "# and add to the neuron’s output variable\n",
        "    neuron_output += n_input*weight\n",
        "# Add bias\n",
        "    neuron_output += neuron_bias\n",
        "# Put neuron’s result to the layer’s output list\n",
        "  layer_outputs.append(neuron_output)\n",
        "print(layer_outputs)\n"
      ]
    },
    {
      "cell_type": "code",
      "source": [],
      "metadata": {
        "id": "rL77Mu8UyqCo"
      },
      "execution_count": null,
      "outputs": []
    }
  ]
}